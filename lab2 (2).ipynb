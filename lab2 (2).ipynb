{
  "cells": [
    {
      "cell_type": "markdown",
      "metadata": {
        "id": "OwxJUCu63hxu"
      },
      "source": [
        "## Глобальная оптимизация и метаэврестические алгоритмы"
      ]
    },
    {
      "cell_type": "code",
      "source": [
        "pip install pygmo"
      ],
      "metadata": {
        "colab": {
          "base_uri": "https://localhost:8080/"
        },
        "id": "lWtTCODr3u_X",
        "outputId": "86aab194-e24e-44f8-eaff-996b37fab7bb"
      },
      "execution_count": 5,
      "outputs": [
        {
          "output_type": "stream",
          "name": "stdout",
          "text": [
            "Collecting pygmo\n",
            "  Downloading pygmo-2.19.5-cp310-cp310-manylinux_2_28_x86_64.whl.metadata (978 bytes)\n",
            "Requirement already satisfied: numpy in /usr/local/lib/python3.10/dist-packages (from pygmo) (1.26.4)\n",
            "Requirement already satisfied: cloudpickle in /usr/local/lib/python3.10/dist-packages (from pygmo) (3.1.0)\n",
            "Requirement already satisfied: scipy in /usr/local/lib/python3.10/dist-packages (from pygmo) (1.13.1)\n",
            "Downloading pygmo-2.19.5-cp310-cp310-manylinux_2_28_x86_64.whl (14.7 MB)\n",
            "\u001b[2K   \u001b[90m━━━━━━━━━━━━━━━━━━━━━━━━━━━━━━━━━━━━━━━━\u001b[0m \u001b[32m14.7/14.7 MB\u001b[0m \u001b[31m49.5 MB/s\u001b[0m eta \u001b[36m0:00:00\u001b[0m\n",
            "\u001b[?25hInstalling collected packages: pygmo\n",
            "Successfully installed pygmo-2.19.5\n"
          ]
        }
      ]
    },
    {
      "cell_type": "code",
      "execution_count": 6,
      "metadata": {
        "id": "ge_z8r8F4d8m"
      },
      "outputs": [],
      "source": [
        "import pygmo as pg\n",
        "import pandas as pd"
      ]
    },
    {
      "cell_type": "code",
      "execution_count": 7,
      "metadata": {
        "id": "byjvLG7O4syN"
      },
      "outputs": [],
      "source": [
        "import numpy as np\n",
        "\n",
        "class SphereFunction:\n",
        "    def __init__(self):\n",
        "        self.dim = 2  # Размерность задачи (x, y)\n",
        "\n",
        "    def fitness(self, x):\n",
        "        return [x[0]**2 + x[1]**2]\n",
        "\n",
        "    def get_bounds(self):\n",
        "        return ([-5, -5], [5, 5])"
      ]
    },
    {
      "cell_type": "code",
      "execution_count": 8,
      "metadata": {
        "id": "KztROUHG4uhd"
      },
      "outputs": [],
      "source": [
        "class BoothFunction:\n",
        "\n",
        "    def __init__(self):\n",
        "        self.dim = 2  # Размерность задачи (x, y)\n",
        "\n",
        "    def fitness(self, x):\n",
        "        \"\"\"\n",
        "        Вычисление значения функции Бута.\n",
        "        :param x: Вектор (x, y)\n",
        "        :return: Значение функции\n",
        "        \"\"\"\n",
        "        return [(x[0] + 2*x[1] - 7)**2 + (2*x[0] + x[1] - 5)**2]\n",
        "\n",
        "    def get_bounds(self):\n",
        "        return ([-10, -10], [10, 10])"
      ]
    },
    {
      "cell_type": "code",
      "source": [],
      "metadata": {
        "id": "-b7hY6vM32hj"
      },
      "execution_count": null,
      "outputs": []
    },
    {
      "cell_type": "code",
      "execution_count": 9,
      "metadata": {
        "id": "w0XgD9dW4yqN"
      },
      "outputs": [],
      "source": [
        "import pygmo as pg\n",
        "\n",
        "# Создание задач\n",
        "sphere_problem = pg.problem(SphereFunction())\n",
        "booth_problem = pg.problem(BoothFunction())\n",
        "\n",
        "# Создание алгоритмов\n",
        "de_algo = pg.algorithm(pg.de(gen=100))  # Differential Evolution\n",
        "pso_algo = pg.algorithm(pg.pso(gen=100))  # Particle Swarm Optimization\n",
        "sa_algo = pg.algorithm(pg.simulated_annealing(n_T_adj=10, n_range_adj=10, Ts=10, Tf=0.1))  # Simulated Annealing\n",
        "\n",
        "# Создание популяций\n",
        "sphere_pop = pg.population(prob=sphere_problem, size=20)\n",
        "booth_pop = pg.population(prob=booth_problem, size=20)\n",
        "\n",
        "# Оптимизация для функции сферы\n",
        "sphere_de_pop = de_algo.evolve(sphere_pop)\n",
        "sphere_pso_pop = pso_algo.evolve(sphere_pop)\n",
        "sphere_sa_pop = sa_algo.evolve(sphere_pop)\n",
        "\n",
        "# Оптимизация для функции Бута\n",
        "booth_de_pop = de_algo.evolve(booth_pop)\n",
        "booth_pso_pop = pso_algo.evolve(booth_pop)\n",
        "booth_sa_pop = sa_algo.evolve(booth_pop)\n",
        "\n",
        "# Истинные оптимумы\n",
        "true_sphere_optimum = [0.0, 0.0]\n",
        "true_booth_optimum = [1.0, 3.0]"
      ]
    },
    {
      "cell_type": "code",
      "execution_count": 10,
      "metadata": {
        "colab": {
          "base_uri": "https://localhost:8080/"
        },
        "id": "997qum0zBLK1",
        "outputId": "930bf8ad-7a76-460d-a7e1-8a90c949d7b4"
      },
      "outputs": [
        {
          "output_type": "stream",
          "name": "stdout",
          "text": [
            "Функция сферы:\n",
            "DE: Coords: [-4.75036625e-05 -7.45752097e-06], Value: 2.312212566852062e-09, Error: 4.8085471473742064e-05\n",
            "PSO: Coords: [-1.15965768e-05 -5.33754359e-06], Value: 1.6296996566357456e-10, Error: 1.2765969045222323e-05\n",
            "SA: Coords: [0.00644339 0.00145131], Value: 4.362361386038642e-05, Error: 0.006604817473661662\n",
            "\n",
            "Функция Бута:\n",
            "DE: Coords: [0.99994088 3.00005329], Value: 6.470741801194777e-09, Error: 7.959171038343322e-05\n",
            "PSO: Coords: [1.00005867 3.00002888], Value: 3.493383088363371e-08, Error: 6.539007524983299e-05\n",
            "SA: Coords: [1.01674276 2.9795337 ], Value: 0.000754648183726089, Error: 0.026442184849976094\n"
          ]
        }
      ],
      "source": [
        "# Вывод результатов для функции сферы\n",
        "print(\"Функция сферы:\")\n",
        "print(f\"DE: Coords: {sphere_de_pop.champion_x}, Value: {sphere_de_pop.champion_f[0]}, Error: {np.linalg.norm(sphere_de_pop.champion_x - true_sphere_optimum)}\")\n",
        "print(f\"PSO: Coords: {sphere_pso_pop.champion_x}, Value: {sphere_pso_pop.champion_f[0]}, Error: {np.linalg.norm(sphere_pso_pop.champion_x - true_sphere_optimum)}\")\n",
        "print(f\"SA: Coords: {sphere_sa_pop.champion_x}, Value: {sphere_sa_pop.champion_f[0]}, Error: {np.linalg.norm(sphere_sa_pop.champion_x - true_sphere_optimum)}\")\n",
        "\n",
        "# Вывод результатов для функции Бута\n",
        "print(\"\\nФункция Бута:\")\n",
        "print(f\"DE: Coords: {booth_de_pop.champion_x}, Value: {booth_de_pop.champion_f[0]}, Error: {np.linalg.norm(booth_de_pop.champion_x - true_booth_optimum)}\")\n",
        "print(f\"PSO: Coords: {booth_pso_pop.champion_x}, Value: {booth_pso_pop.champion_f[0]}, Error: {np.linalg.norm(booth_pso_pop.champion_x - true_booth_optimum)}\")\n",
        "print(f\"SA: Coords: {booth_sa_pop.champion_x}, Value: {booth_sa_pop.champion_f[0]}, Error: {np.linalg.norm(booth_sa_pop.champion_x - true_booth_optimum)}\")"
      ]
    }
  ],
  "metadata": {
    "colab": {
      "provenance": []
    },
    "kernelspec": {
      "display_name": "Python 3 (ipykernel)",
      "language": "python",
      "name": "python3"
    },
    "language_info": {
      "codemirror_mode": {
        "name": "ipython",
        "version": 3
      },
      "file_extension": ".py",
      "mimetype": "text/x-python",
      "name": "python",
      "nbconvert_exporter": "python",
      "pygments_lexer": "ipython3",
      "version": "3.12.6"
    }
  },
  "nbformat": 4,
  "nbformat_minor": 0
}