{
 "cells": [
  {
   "cell_type": "markdown",
   "metadata": {},
   "source": [
    "## Глобальная оптимизация и метаэврестические алгоритмы"
   ]
  },
  {
   "cell_type": "code",
   "execution_count": 4,
   "metadata": {
    "id": "ge_z8r8F4d8m"
   },
   "outputs": [],
   "source": [
    "import pygmo as pg\n",
    "import pandas as pd"
   ]
  },
  {
   "cell_type": "code",
   "execution_count": 5,
   "metadata": {
    "id": "byjvLG7O4syN"
   },
   "outputs": [],
   "source": [
    "import numpy as np\n",
    "\n",
    "class SphereFunction:\n",
    "    \"\"\"\n",
    "    Реализация функции сферы для Pygmo.\n",
    "    \"\"\"\n",
    "    def __init__(self):\n",
    "        self.dim = 2  # Размерность задачи (x, y)\n",
    "\n",
    "    def fitness(self, x):\n",
    "        \"\"\"\n",
    "        Вычисление значения функции сферы.\n",
    "        :param x: Вектор (x, y)\n",
    "        :return: Значение функции\n",
    "        \"\"\"\n",
    "        return [x[0]**2 + x[1]**2]\n",
    "\n",
    "    def get_bounds(self):\n",
    "        \"\"\"\n",
    "        Границы допустимой области.\n",
    "        :return: Кортеж с нижними и верхними границами\n",
    "        \"\"\"\n",
    "        return ([-5, -5], [5, 5])"
   ]
  },
  {
   "cell_type": "code",
   "execution_count": 6,
   "metadata": {
    "id": "KztROUHG4uhd"
   },
   "outputs": [],
   "source": [
    "class BoothFunction:\n",
    "    \"\"\"\n",
    "    Реализация функции Бута для Pygmo.\n",
    "    \"\"\"\n",
    "    def __init__(self):\n",
    "        self.dim = 2  # Размерность задачи (x, y)\n",
    "\n",
    "    def fitness(self, x):\n",
    "        \"\"\"\n",
    "        Вычисление значения функции Бута.\n",
    "        :param x: Вектор (x, y)\n",
    "        :return: Значение функции\n",
    "        \"\"\"\n",
    "        return [(x[0] + 2*x[1] - 7)**2 + (2*x[0] + x[1] - 5)**2]\n",
    "\n",
    "    def get_bounds(self):\n",
    "        \"\"\"\n",
    "        Границы допустимой области.\n",
    "        :return: Кортеж с нижними и верхними границами\n",
    "        \"\"\"\n",
    "        return ([-10, -10], [10, 10])"
   ]
  },
  {
   "cell_type": "code",
   "execution_count": 12,
   "metadata": {
    "id": "w0XgD9dW4yqN"
   },
   "outputs": [],
   "source": [
    "import pygmo as pg\n",
    "\n",
    "# Создание задач\n",
    "sphere_problem = pg.problem(SphereFunction())\n",
    "booth_problem = pg.problem(BoothFunction())\n",
    "\n",
    "# Создание алгоритмов\n",
    "de_algo = pg.algorithm(pg.de(gen=100))  # Differential Evolution\n",
    "pso_algo = pg.algorithm(pg.pso(gen=100))  # Particle Swarm Optimization\n",
    "sa_algo = pg.algorithm(pg.simulated_annealing(n_T_adj=10, n_range_adj=10, Ts=10, Tf=0.1))  # Simulated Annealing\n",
    "\n",
    "# Создание популяций\n",
    "sphere_pop = pg.population(prob=sphere_problem, size=20)\n",
    "booth_pop = pg.population(prob=booth_problem, size=20)\n",
    "\n",
    "# Оптимизация для функции сферы\n",
    "sphere_de_pop = de_algo.evolve(sphere_pop)\n",
    "sphere_pso_pop = pso_algo.evolve(sphere_pop)\n",
    "sphere_sa_pop = sa_algo.evolve(sphere_pop)\n",
    "\n",
    "# Оптимизация для функции Бута\n",
    "booth_de_pop = de_algo.evolve(booth_pop)\n",
    "booth_pso_pop = pso_algo.evolve(booth_pop)\n",
    "booth_sa_pop = sa_algo.evolve(booth_pop)\n",
    "\n",
    "# Истинные оптимумы\n",
    "true_sphere_optimum = [0.0, 0.0]\n",
    "true_booth_optimum = [1.0, 3.0]"
   ]
  },
  {
   "cell_type": "code",
   "execution_count": 13,
   "metadata": {
    "colab": {
     "base_uri": "https://localhost:8080/"
    },
    "id": "997qum0zBLK1",
    "outputId": "73e2f841-e589-40d2-93bf-581352bccf2a"
   },
   "outputs": [
    {
     "name": "stdout",
     "output_type": "stream",
     "text": [
      "Функция сферы:\n",
      "DE: Coords: [-1.08407547e-05  5.32150256e-05], Value: 2.94936091297343e-09, Error: 5.43080188643761e-05\n",
      "PSO: Coords: [-3.00246966e-05 -2.00447303e-05], Value: 1.3032736188937013e-09, Error: 3.6100881137358705e-05\n",
      "SA: Coords: [-0.00210328  0.00646878], Value: 4.6268948039649454e-05, Error: 0.006802128199295383\n",
      "\n",
      "Функция Бута:\n",
      "DE: Coords: [1.00002098 3.00002025], Value: 7.650406008255632e-09, Error: 2.915958197023279e-05\n",
      "PSO: Coords: [0.99999893 2.9999761 ], Value: 3.067556028010762e-09, Error: 2.3928603634310016e-05\n",
      "SA: Coords: [0.98892558 3.00582267], Value: 0.0002668701044783237, Error: 0.012511845641005466\n"
     ]
    }
   ],
   "source": [
    "# Вывод результатов для функции сферы\n",
    "print(\"Функция сферы:\")\n",
    "print(f\"DE: Coords: {sphere_de_pop.champion_x}, Value: {sphere_de_pop.champion_f[0]}, Error: {np.linalg.norm(sphere_de_pop.champion_x - true_sphere_optimum)}\")\n",
    "print(f\"PSO: Coords: {sphere_pso_pop.champion_x}, Value: {sphere_pso_pop.champion_f[0]}, Error: {np.linalg.norm(sphere_pso_pop.champion_x - true_sphere_optimum)}\")\n",
    "print(f\"SA: Coords: {sphere_sa_pop.champion_x}, Value: {sphere_sa_pop.champion_f[0]}, Error: {np.linalg.norm(sphere_sa_pop.champion_x - true_sphere_optimum)}\")\n",
    "\n",
    "# Вывод результатов для функции Бута\n",
    "print(\"\\nФункция Бута:\")\n",
    "print(f\"DE: Coords: {booth_de_pop.champion_x}, Value: {booth_de_pop.champion_f[0]}, Error: {np.linalg.norm(booth_de_pop.champion_x - true_booth_optimum)}\")\n",
    "print(f\"PSO: Coords: {booth_pso_pop.champion_x}, Value: {booth_pso_pop.champion_f[0]}, Error: {np.linalg.norm(booth_pso_pop.champion_x - true_booth_optimum)}\")\n",
    "print(f\"SA: Coords: {booth_sa_pop.champion_x}, Value: {booth_sa_pop.champion_f[0]}, Error: {np.linalg.norm(booth_sa_pop.champion_x - true_booth_optimum)}\")"
   ]
  }
 ],
 "metadata": {
  "colab": {
   "provenance": []
  },
  "kernelspec": {
   "display_name": "Python 3 (ipykernel)",
   "language": "python",
   "name": "python3"
  },
  "language_info": {
   "codemirror_mode": {
    "name": "ipython",
    "version": 3
   },
   "file_extension": ".py",
   "mimetype": "text/x-python",
   "name": "python",
   "nbconvert_exporter": "python",
   "pygments_lexer": "ipython3",
   "version": "3.12.6"
  }
 },
 "nbformat": 4,
 "nbformat_minor": 4
}
